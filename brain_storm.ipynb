{
 "cells": [
  {
   "cell_type": "code",
   "execution_count": 6,
   "metadata": {},
   "outputs": [],
   "source": [
    "from runner import load_dataset"
   ]
  },
  {
   "cell_type": "code",
   "execution_count": 7,
   "metadata": {},
   "outputs": [],
   "source": [
    "root = \"/cephfs/shared/nuplan/online_s6/index\"\n",
    "dataset = load_dataset(root = root, split = \"train\", debug = True)"
   ]
  },
  {
   "cell_type": "code",
   "execution_count": 8,
   "metadata": {},
   "outputs": [],
   "source": [
    "from diffusion4trajectory.dataloader.nuplan_raster import nuplan_rasterize_collate_func_augmentation\n",
    "from transformer4planning.trainer import save_raster"
   ]
  },
  {
   "cell_type": "code",
   "execution_count": 9,
   "metadata": {},
   "outputs": [
    {
     "name": "stdout",
     "output_type": "stream",
     "text": [
      "scenario_start_frame tensor(935) scenario_end_frame tensor(1135)\n",
      "ego pose shape (620, 4)\n",
      "augmenting 3.0457623758837618 0.2002421386895127\n",
      "frame_id tensor(975) sample_frames_in_past [tensor(935), tensor(955), tensor(965), tensor(975)] sample_frames_in_future [977, 979, 981, 983, 985, 987, 989, 991, 993, 995, 997, 999, 1001, 1003, 1005, 1007, 1009, 1011, 1013, 1015, 1017, 1019, 1021, 1023, 1025, 1027, 1029, 1031, 1033, 1035, 1037, 1039, 1041, 1043, 1045, 1047, 1049, 1051, 1053, 1055, 1057, 1059, 1061, 1063, 1065, 1067, 1069, 1071, 1073, 1075, 1077, 1079, 1081, 1083, 1085, 1087, 1089, 1091, 1093, 1095, 1097, 1099, 1101, 1103, 1105, 1107, 1109, 1111, 1113, 1115, 1117, 1119, 1121, 1123, 1125, 1127, 1129, 1131, 1133, 1135]\n"
     ]
    }
   ],
   "source": [
    "inputs = nuplan_rasterize_collate_func_augmentation([dataset[45]],dic_path=\"/cephfs/shared/nuplan/online_s6\")"
   ]
  },
  {
   "cell_type": "code",
   "execution_count": 10,
   "metadata": {},
   "outputs": [
    {
     "name": "stdout",
     "output_type": "stream",
     "text": [
      "length of action and labels:  torch.Size([4, 7])\n",
      "debug images saved to:  /cephfs/zhanjh/DiffusionForcing/StateTransformer/diffusion4trajectory/tmp 0\n"
     ]
    }
   ],
   "source": [
    "save_raster(inputs, sample_index=0, file_index=0,path_to_save=\"/cephfs/zhanjh/DiffusionForcing/StateTransformer/diffusion4trajectory/tmp\")"
   ]
  }
 ],
 "metadata": {
  "kernelspec": {
   "display_name": "str",
   "language": "python",
   "name": "python3"
  },
  "language_info": {
   "codemirror_mode": {
    "name": "ipython",
    "version": 3
   },
   "file_extension": ".py",
   "mimetype": "text/x-python",
   "name": "python",
   "nbconvert_exporter": "python",
   "pygments_lexer": "ipython3",
   "version": "3.9.18"
  }
 },
 "nbformat": 4,
 "nbformat_minor": 2
}
